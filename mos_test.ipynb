{
 "cells": [
  {
   "cell_type": "code",
   "execution_count": null,
   "metadata": {},
   "outputs": [],
   "source": [
    "import json\n",
    "\n",
    "with open('shelwyn_template_a.json', 'r') as file:\n",
    "    data = json.load(file)\n",
    "\n",
    "# List to hold the converted dataset\n",
    "formatted_data = []\n",
    "\n",
    "# Process each entry in the JSON data\n",
    "for entry in data:\n",
    "    system_prompt = entry['system_prompt']\n",
    "    conversations = entry['conversations']\n",
    "    \n",
    "    for conversation in conversations:\n",
    "        user_message_1 = conversation['user_message']\n",
    "        model_answer_1 = conversation['model_answer']\n",
    "        \n",
    "        # Format the conversation according to the template\n",
    "        formatted_conversation = f\"<s>[INST] <<SYS>>\\n{system_prompt}\\n<</SYS>>\\n\\n{user_message_1} [/INST] {model_answer_1} </s>\\n\"\n",
    "        formatted_data.append(formatted_conversation)\n",
    "\n",
    "# Output the formatted data to a new file\n",
    "with open('formatted_dataset.txt', 'w') as file:\n",
    "    for item in formatted_data:\n",
    "        file.write(item)"
   ]
  }
 ],
 "metadata": {
  "language_info": {
   "name": "python"
  }
 },
 "nbformat": 4,
 "nbformat_minor": 2
}
